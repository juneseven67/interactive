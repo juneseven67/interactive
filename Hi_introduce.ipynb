{
 "cells": [
  {
   "cell_type": "markdown",
   "metadata": {},
   "source": [
    "#### 目標\n",
    "* 將.pynby檔轉為.py檔\n",
    "* 運用pyinstaller將.py檔打包成.exe檔\n",
    "* 在沒有裝python的window作業系統執行"
   ]
  },
  {
   "cell_type": "markdown",
   "metadata": {},
   "source": [
    "原檔檔名為:Hi.ipynb，原檔內容如下："
   ]
  },
  {
   "cell_type": "code",
   "execution_count": 1,
   "metadata": {},
   "outputs": [
    {
     "name": "stdout",
     "output_type": "stream",
     "text": [
      "please enter your name:wen\n",
      "hi,wen,welcome!\n"
     ]
    }
   ],
   "source": [
    "a=input(\"please enter your name:\")\n",
    "print(\"hi,{},welcome!\".format(a))"
   ]
  },
  {
   "cell_type": "markdown",
   "metadata": {},
   "source": [
    "#### 1.將Hi.ipynb轉成Hi.py檔"
   ]
  },
  {
   "cell_type": "code",
   "execution_count": 2,
   "metadata": {},
   "outputs": [
    {
     "name": "stderr",
     "output_type": "stream",
     "text": [
      "[NbConvertApp] Converting notebook Hi.ipynb to script\n",
      "[NbConvertApp] Writing 98 bytes to Hi.py\n"
     ]
    }
   ],
   "source": [
    "! jupyter nbconvert --to script Hi.ipynb"
   ]
  },
  {
   "cell_type": "markdown",
   "metadata": {},
   "source": [
    "#### 2.安裝 pyinstaller"
   ]
  },
  {
   "cell_type": "code",
   "execution_count": 6,
   "metadata": {},
   "outputs": [
    {
     "name": "stdout",
     "output_type": "stream",
     "text": [
      "Requirement already satisfied: pyinstaller in c:\\users\\wen\\anaconda3\\lib\\site-packages (3.3.1)\n",
      "Requirement already satisfied: macholib>=1.8 in c:\\users\\wen\\anaconda3\\lib\\site-packages (from pyinstaller) (1.11)\n",
      "Requirement already satisfied: setuptools in c:\\users\\wen\\anaconda3\\lib\\site-packages (from pyinstaller) (39.1.0)\n",
      "Requirement already satisfied: future in c:\\users\\wen\\anaconda3\\lib\\site-packages (from pyinstaller) (0.16.0)\n",
      "Requirement already satisfied: pefile>=2017.8.1 in c:\\users\\wen\\anaconda3\\lib\\site-packages (from pyinstaller) (2018.8.8)\n",
      "Requirement already satisfied: altgraph>=0.15 in c:\\users\\wen\\anaconda3\\lib\\site-packages (from macholib>=1.8->pyinstaller) (0.16.1)\n"
     ]
    }
   ],
   "source": [
    "! pip3 install pyinstaller"
   ]
  },
  {
   "cell_type": "code",
   "execution_count": 4,
   "metadata": {
    "scrolled": false
   },
   "outputs": [
    {
     "name": "stdout",
     "output_type": "stream",
     "text": [
      "usage: pyinstaller [-h] [-v] [-D] [-F] [--specpath DIR] [-n NAME]\n",
      "                   [--add-data <SRC;DEST or SRC:DEST>]\n",
      "                   [--add-binary <SRC;DEST or SRC:DEST>] [-p DIR]\n",
      "                   [--hidden-import MODULENAME]\n",
      "                   [--additional-hooks-dir HOOKSPATH]\n",
      "                   [--runtime-hook RUNTIME_HOOKS] [--exclude-module EXCLUDES]\n",
      "                   [--key KEY] [-d] [-s] [--noupx] [-c] [-w]\n",
      "                   [-i <FILE.ico or FILE.exe,ID or FILE.icns>]\n",
      "                   [--version-file FILE] [-m <FILE or XML>] [-r RESOURCE]\n",
      "                   [--uac-admin] [--uac-uiaccess] [--win-private-assemblies]\n",
      "                   [--win-no-prefer-redirects]\n",
      "                   [--osx-bundle-identifier BUNDLE_IDENTIFIER]\n",
      "                   [--runtime-tmpdir PATH] [--distpath DIR]\n",
      "                   [--workpath WORKPATH] [-y] [--upx-dir UPX_DIR] [-a]\n",
      "                   [--clean] [--log-level LEVEL]\n",
      "                   scriptname [scriptname ...]\n",
      "\n",
      "positional arguments:\n",
      "  scriptname            name of scriptfiles to be processed or exactly one\n",
      "                        .spec-file. If a .spec-file is specified, most options\n",
      "                        are unnecessary and are ignored.\n",
      "\n",
      "optional arguments:\n",
      "  -h, --help            show this help message and exit\n",
      "  -v, --version         Show program version info and exit.\n",
      "  --distpath DIR        Where to put the bundled app (default: .\\dist)\n",
      "  --workpath WORKPATH   Where to put all the temporary work files, .log, .pyz\n",
      "                        and etc. (default: .\\build)\n",
      "  -y, --noconfirm       Replace output directory (default:\n",
      "                        SPECPATH\\dist\\SPECNAME) without asking for\n",
      "                        confirmation\n",
      "  --upx-dir UPX_DIR     Path to UPX utility (default: search the execution\n",
      "                        path)\n",
      "  -a, --ascii           Do not include unicode encoding support (default:\n",
      "                        included if available)\n",
      "  --clean               Clean PyInstaller cache and remove temporary files\n",
      "                        before building.\n",
      "  --log-level LEVEL     Amount of detail in build-time console messages. LEVEL\n",
      "                        may be one of TRACE, DEBUG, INFO, WARN, ERROR,\n",
      "                        CRITICAL (default: INFO).\n",
      "\n",
      "What to generate:\n",
      "  -D, --onedir          Create a one-folder bundle containing an executable\n",
      "                        (default)\n",
      "  -F, --onefile         Create a one-file bundled executable.\n",
      "  --specpath DIR        Folder to store the generated spec file (default:\n",
      "                        current directory)\n",
      "  -n NAME, --name NAME  Name to assign to the bundled app and spec file\n",
      "                        (default: first script's basename)\n",
      "\n",
      "What to bundle, where to search:\n",
      "  --add-data <SRC;DEST or SRC:DEST>\n",
      "                        Additional non-binary files or folders to be added to\n",
      "                        the executable. The path separator is platform\n",
      "                        specific, ``os.pathsep`` (which is ``;`` on Windows\n",
      "                        and ``:`` on most unix systems) is used. This option\n",
      "                        can be used multiple times.\n",
      "  --add-binary <SRC;DEST or SRC:DEST>\n",
      "                        Additional binary files to be added to the executable.\n",
      "                        See the ``--add-data`` option for more details. This\n",
      "                        option can be used multiple times.\n",
      "  -p DIR, --paths DIR   A path to search for imports (like using PYTHONPATH).\n",
      "                        Multiple paths are allowed, separated by ';', or use\n",
      "                        this option multiple times\n",
      "  --hidden-import MODULENAME, --hiddenimport MODULENAME\n",
      "                        Name an import not visible in the code of the\n",
      "                        script(s). This option can be used multiple times.\n",
      "  --additional-hooks-dir HOOKSPATH\n",
      "                        An additional path to search for hooks. This option\n",
      "                        can be used multiple times.\n",
      "  --runtime-hook RUNTIME_HOOKS\n",
      "                        Path to a custom runtime hook file. A runtime hook is\n",
      "                        code that is bundled with the executable and is\n",
      "                        executed before any other code or module to set up\n",
      "                        special features of the runtime environment. This\n",
      "                        option can be used multiple times.\n",
      "  --exclude-module EXCLUDES\n",
      "                        Optional module or package (the Python name, not the\n",
      "                        path name) that will be ignored (as though it was not\n",
      "                        found). This option can be used multiple times.\n",
      "  --key KEY             The key used to encrypt Python bytecode.\n",
      "\n",
      "How to generate:\n",
      "  -d, --debug           Tell the bootloader to issue progress messages while\n",
      "                        initializing and starting the bundled app. Used to\n",
      "                        diagnose problems with missing imports.\n",
      "  -s, --strip           Apply a symbol-table strip to the executable and\n",
      "                        shared libs (not recommended for Windows)\n",
      "  --noupx               Do not use UPX even if it is available (works\n",
      "                        differently between Windows and *nix)\n",
      "\n",
      "Windows and Mac OS X specific options:\n",
      "  -c, --console, --nowindowed\n",
      "                        Open a console window for standard i/o (default)\n",
      "  -w, --windowed, --noconsole\n",
      "                        Windows and Mac OS X: do not provide a console window\n",
      "                        for standard i/o. On Mac OS X this also triggers\n",
      "                        building an OS X .app bundle. This option is ignored\n",
      "                        in *NIX systems.\n",
      "  -i <FILE.ico or FILE.exe,ID or FILE.icns>, --icon <FILE.ico or FILE.exe,ID or FILE.icns>\n",
      "                        FILE.ico: apply that icon to a Windows executable.\n",
      "                        FILE.exe,ID, extract the icon with ID from an exe.\n",
      "                        FILE.icns: apply the icon to the .app bundle on Mac OS\n",
      "                        X\n",
      "\n",
      "Windows specific options:\n",
      "  --version-file FILE   add a version resource from FILE to the exe\n",
      "  -m <FILE or XML>, --manifest <FILE or XML>\n",
      "                        add manifest FILE or XML to the exe\n",
      "  -r RESOURCE, --resource RESOURCE\n",
      "                        Add or update a resource to a Windows executable. The\n",
      "                        RESOURCE is one to four items,\n",
      "                        FILE[,TYPE[,NAME[,LANGUAGE]]]. FILE can be a data file\n",
      "                        or an exe/dll. For data files, at least TYPE and NAME\n",
      "                        must be specified. LANGUAGE defaults to 0 or may be\n",
      "                        specified as wildcard * to update all resources of the\n",
      "                        given TYPE and NAME. For exe/dll files, all resources\n",
      "                        from FILE will be added/updated to the final\n",
      "                        executable if TYPE, NAME and LANGUAGE are omitted or\n",
      "                        specified as wildcard *.This option can be used\n",
      "                        multiple times.\n",
      "  --uac-admin           Using this option creates a Manifest which will\n",
      "                        request elevation upon application restart.\n",
      "  --uac-uiaccess        Using this option allows an elevated application to\n",
      "                        work with Remote Desktop.\n",
      "\n",
      "Windows Side-by-side Assembly searching options (advanced):\n",
      "  --win-private-assemblies\n",
      "                        Any Shared Assemblies bundled into the application\n",
      "                        will be changed into Private Assemblies. This means\n",
      "                        the exact versions of these assemblies will always be\n",
      "                        used, and any newer versions installed on user\n",
      "                        machines at the system level will be ignored.\n",
      "  --win-no-prefer-redirects\n",
      "                        While searching for Shared or Private Assemblies to\n",
      "                        bundle into the application, PyInstaller will prefer\n",
      "                        not to follow policies that redirect to newer\n",
      "                        versions, and will try to bundle the exact versions of\n",
      "                        the assembly.\n",
      "\n",
      "Mac OS X specific options:\n",
      "  --osx-bundle-identifier BUNDLE_IDENTIFIER\n",
      "                        Mac OS X .app bundle identifier is used as the default\n",
      "                        unique program name for code signing purposes. The\n",
      "                        usual form is a hierarchical name in reverse DNS\n",
      "                        notation. For example:\n",
      "                        com.mycompany.department.appname (default: first\n",
      "                        script's basename)\n",
      "\n",
      "Rarely used special options:\n",
      "  --runtime-tmpdir PATH\n",
      "                        Where to extract libraries and support files in\n",
      "                        `onefile`-mode. If this option is given, the\n",
      "                        bootloader will ignore any temp-folder location\n",
      "                        defined by the run-time OS. The ``_MEIxxxxxx``-folder\n",
      "                        will be created here. Please use this option only if\n",
      "                        you know what you are doing.\n"
     ]
    }
   ],
   "source": [
    "! pyinstaller -h #此指令可以查看參數"
   ]
  },
  {
   "cell_type": "markdown",
   "metadata": {},
   "source": [
    "#### 3.開啟Anaconda prompt  (兩步驟如下圖)\n",
    "* 進入放置py檔的資料夾  \n",
    "* pyinstaller -F .\\檔名.py\n",
    "![](img/Hi_1.jpg)\n",
    "* 成功如下圖\n",
    "![](img/Hi_2.jpg)"
   ]
  },
  {
   "cell_type": "markdown",
   "metadata": {},
   "source": [
    "#### 執行 pyinstaller -F .\\檔名.py 命令後會有以下步驟\n",
    "1. 會先建立一個 hello.spec\n",
    "2. 建立「build」資料夾，裡面有log紀錄檔與工作檔案\n",
    "3. 建立「dist」資料夾，裡面有執行檔(.exe)\n",
    "![](img/Hi_3.jpg)"
   ]
  },
  {
   "cell_type": "markdown",
   "metadata": {},
   "source": [
    "\\__pycache__\n",
    "裡面放編譯時需要的檔案。\n",
    "\n",
    "當python運行時，編譯器先將其編譯為字節碼，並將其存儲在\\__pycache__文件夾中。<br>\n",
    "使檔案不出現的方法：python3 -B XXX.py"
   ]
  },
  {
   "cell_type": "markdown",
   "metadata": {},
   "source": [
    "#### 4.有了執行檔後，開啟cmd(命令列)\n",
    "* 進入放exe檔的資料夾\n",
    "* 檔名.exe\n",
    "![](img\\Hi_4.jpg)\n",
    "* 成功執行如下\n",
    "![](img\\Hi_5.jpg)"
   ]
  },
  {
   "cell_type": "markdown",
   "metadata": {},
   "source": [
    "#### 這樣就完成囉!"
   ]
  }
 ],
 "metadata": {
  "kernelspec": {
   "display_name": "Python 3",
   "language": "python",
   "name": "python3"
  },
  "language_info": {
   "codemirror_mode": {
    "name": "ipython",
    "version": 3
   },
   "file_extension": ".py",
   "mimetype": "text/x-python",
   "name": "python",
   "nbconvert_exporter": "python",
   "pygments_lexer": "ipython3",
   "version": "3.6.5"
  }
 },
 "nbformat": 4,
 "nbformat_minor": 2
}
